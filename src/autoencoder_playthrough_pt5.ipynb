{
 "cells": [
  {
   "cell_type": "code",
   "execution_count": 1,
   "id": "071d5237-3d47-4fbb-af79-7f18b6f87de5",
   "metadata": {},
   "outputs": [
    {
     "name": "stdout",
     "output_type": "stream",
     "text": [
      "(70000, 784) (70000,)\n"
     ]
    }
   ],
   "source": [
    "import torch\n",
    "from torch.autograd import Variable\n",
    "import numpy as np\n",
    "import torch.nn as nn\n",
    "import torch.nn.functional as F\n",
    "import torch.optim as optim\n",
    "import matplotlib.pyplot as plt\n",
    "from sklearn.datasets import load_digits\n",
    "from sklearn.datasets import fetch_openml\n",
    "import random\n",
    "x, y = fetch_openml(\"mnist_784\", version=1, return_X_y=True, as_frame=False)\n",
    "\n",
    "print(x.shape,y.shape)"
   ]
  },
  {
   "cell_type": "code",
   "execution_count": 3,
   "id": "18ee6070-b228-487a-b335-d6bfb7147e9a",
   "metadata": {},
   "outputs": [
    {
     "data": {
      "image/png": "[encoded data removed]",
      "text/plain": [
       "<Figure size 640x480 with 1 Axes>"
      ]
     },
     "metadata": {},
     "output_type": "display_data"
    },
    {
     "data": {
      "image/png": "[encoded data removed]",
      "text/plain": [
       "<Figure size 640x480 with 1 Axes>"
      ]
     },
     "metadata": {},
     "output_type": "display_data"
    }
   ],
   "source": [
    "class MnistDataset(torch.utils.data.Dataset):\n",
    "    def __init__(self, data,targets):\n",
    "        self.data = data\n",
    "        self.targets = targets\n",
    "\n",
    "    def __len__(self):\n",
    "        return self.data.shape[0]\n",
    "\n",
    "    def __getitem__(self, idx):\n",
    "        slice_i = torch.tensor(np.take(self.data, indices=idx, axis=0), dtype=torch.float32)\n",
    "        target = self.targets[idx]\n",
    "        return slice_i,target\n",
    "\n",
    "def show_bw_image(img_array):\n",
    "    plt.imshow(img_array.reshape(28,28), cmap='gray')\n",
    "    plt.axis('off')\n",
    "    plt.show()\n",
    "\n",
    "X = x/255\n",
    "Y = np.array([int(num) for num in y])\n",
    "# print(type(Y),type(Y[0]))\n",
    "train_dataset = MnistDataset(X[:63000],Y[:63000])\n",
    "val_dataset = MnistDataset(X[63000:],Y[63000:])\n",
    "show_bw_image(train_dataset[0][0])\n",
    "\n",
    "train_loader = torch.utils.data.DataLoader(train_dataset, batch_size=8, shuffle=True)\n",
    "val_loader = torch.utils.data.DataLoader(val_dataset, batch_size=1, shuffle=False)\n",
    "show_bw_image(next(iter(train_loader))[0][0])\n",
    "# data, target = next(iter(train_loader))\n",
    "# print(\"data\",data,\"target\",target)"
   ]
  },
  {
   "cell_type": "code",
   "execution_count": 7,
   "id": "dfafe1ed-138d-4f07-8e34-65cc9282a83b",
   "metadata": {
    "scrolled": true
   },
   "outputs": [
    {
     "name": "stdout",
     "output_type": "stream",
     "text": [
      "input_image 7\n"
     ]
    },
    {
     "data": {
      "image/png": "[encoded data removed]",
      "text/plain": [
       "<Figure size 640x480 with 1 Axes>"
      ]
     },
     "metadata": {},
     "output_type": "display_data"
    },
    {
     "name": "stdout",
     "output_type": "stream",
     "text": [
      "predicted_image tensor([6])\n",
      "batch 0\n",
      "batch 1\n",
      "batch 2\n",
      "batch 3\n",
      "batch 4\n",
      "batch 5\n",
      "batch 6\n",
      "batch 7\n",
      "batch 8\n",
      "batch 9\n",
      "batch 10\n",
      "batch 11\n",
      "batch 12\n",
      "batch 13\n",
      "batch 14\n",
      "batch 15\n",
      "batch 16\n",
      "batch 17\n",
      "batch 18\n",
      "batch 19\n",
      "batch 20\n",
      "batch 21\n",
      "batch 22\n",
      "batch 23\n",
      "batch 24\n"
     ]
    },
    {
     "ename": "KeyboardInterrupt",
     "evalue": "",
     "output_type": "error",
     "traceback": [
      "\u001b[0;31m---------------------------------------------------------------------------\u001b[0m",
      "\u001b[0;31mKeyboardInterrupt\u001b[0m                         Traceback (most recent call last)",
      "Cell \u001b[0;32mIn[7], line 182\u001b[0m\n\u001b[1;32m    180\u001b[0m visualise_prediction(model,val_dataset[random\u001b[38;5;241m.\u001b[39mrandrange(\u001b[38;5;241m10\u001b[39m)])\n\u001b[1;32m    181\u001b[0m \u001b[38;5;66;03m# generate_image_from_one_hot(model,number = 0)\u001b[39;00m\n\u001b[0;32m--> 182\u001b[0m \u001b[43mTrain\u001b[49m\u001b[43m(\u001b[49m\u001b[43mmodel\u001b[49m\u001b[43m,\u001b[49m\u001b[43mtrain_loader\u001b[49m\u001b[43m,\u001b[49m\u001b[43m \u001b[49m\u001b[43mval_loader\u001b[49m\u001b[43m,\u001b[49m\u001b[43m \u001b[49m\u001b[43mnum_epochs\u001b[49m\u001b[43m,\u001b[49m\u001b[43mlearning_rate\u001b[49m\u001b[43m)\u001b[49m\n\u001b[1;32m    183\u001b[0m visualise_prediction(model,val_dataset[random\u001b[38;5;241m.\u001b[39mrandrange(\u001b[38;5;241m10\u001b[39m)])\n\u001b[1;32m    184\u001b[0m \u001b[38;5;66;03m# generate_image_from_one_hot(model,number = 0)\u001b[39;00m\n",
      "Cell \u001b[0;32mIn[7], line 147\u001b[0m, in \u001b[0;36mTrain\u001b[0;34m(model, train_loader, val_loader, epochs, lr)\u001b[0m\n\u001b[1;32m    145\u001b[0m model\u001b[38;5;241m.\u001b[39mtrain()\n\u001b[1;32m    146\u001b[0m losses \u001b[38;5;241m=\u001b[39m []\n\u001b[0;32m--> 147\u001b[0m \u001b[38;5;28;01mfor\u001b[39;00m i,batch \u001b[38;5;129;01min\u001b[39;00m \u001b[38;5;28menumerate\u001b[39m(train_loader):\n\u001b[1;32m    148\u001b[0m     \u001b[38;5;28mprint\u001b[39m(\u001b[38;5;124m\"\u001b[39m\u001b[38;5;124mbatch\u001b[39m\u001b[38;5;124m\"\u001b[39m,i)\n\u001b[1;32m    149\u001b[0m     \u001b[38;5;28minput\u001b[39m,target \u001b[38;5;241m=\u001b[39m batch\n",
      "File \u001b[0;32m/usr/local/lib/python3.9/site-packages/torch/utils/data/dataloader.py:701\u001b[0m, in \u001b[0;36m_BaseDataLoaderIter.__next__\u001b[0;34m(self)\u001b[0m\n\u001b[1;32m    698\u001b[0m \u001b[38;5;28;01mif\u001b[39;00m \u001b[38;5;28mself\u001b[39m\u001b[38;5;241m.\u001b[39m_sampler_iter \u001b[38;5;129;01mis\u001b[39;00m \u001b[38;5;28;01mNone\u001b[39;00m:\n\u001b[1;32m    699\u001b[0m     \u001b[38;5;66;03m# TODO(https://github.com/pytorch/pytorch/issues/76750)\u001b[39;00m\n\u001b[1;32m    700\u001b[0m     \u001b[38;5;28mself\u001b[39m\u001b[38;5;241m.\u001b[39m_reset()  \u001b[38;5;66;03m# type: ignore[call-arg]\u001b[39;00m\n\u001b[0;32m--> 701\u001b[0m data \u001b[38;5;241m=\u001b[39m \u001b[38;5;28;43mself\u001b[39;49m\u001b[38;5;241;43m.\u001b[39;49m\u001b[43m_next_data\u001b[49m\u001b[43m(\u001b[49m\u001b[43m)\u001b[49m\n\u001b[1;32m    702\u001b[0m \u001b[38;5;28mself\u001b[39m\u001b[38;5;241m.\u001b[39m_num_yielded \u001b[38;5;241m+\u001b[39m\u001b[38;5;241m=\u001b[39m \u001b[38;5;241m1\u001b[39m\n\u001b[1;32m    703\u001b[0m \u001b[38;5;28;01mif\u001b[39;00m (\n\u001b[1;32m    704\u001b[0m     \u001b[38;5;28mself\u001b[39m\u001b[38;5;241m.\u001b[39m_dataset_kind \u001b[38;5;241m==\u001b[39m _DatasetKind\u001b[38;5;241m.\u001b[39mIterable\n\u001b[1;32m    705\u001b[0m     \u001b[38;5;129;01mand\u001b[39;00m \u001b[38;5;28mself\u001b[39m\u001b[38;5;241m.\u001b[39m_IterableDataset_len_called \u001b[38;5;129;01mis\u001b[39;00m \u001b[38;5;129;01mnot\u001b[39;00m \u001b[38;5;28;01mNone\u001b[39;00m\n\u001b[1;32m    706\u001b[0m     \u001b[38;5;129;01mand\u001b[39;00m \u001b[38;5;28mself\u001b[39m\u001b[38;5;241m.\u001b[39m_num_yielded \u001b[38;5;241m>\u001b[39m \u001b[38;5;28mself\u001b[39m\u001b[38;5;241m.\u001b[39m_IterableDataset_len_called\n\u001b[1;32m    707\u001b[0m ):\n",
      "File \u001b[0;32m/usr/local/lib/python3.9/site-packages/torch/utils/data/dataloader.py:757\u001b[0m, in \u001b[0;36m_SingleProcessDataLoaderIter._next_data\u001b[0;34m(self)\u001b[0m\n\u001b[1;32m    755\u001b[0m \u001b[38;5;28;01mdef\u001b[39;00m \u001b[38;5;21m_next_data\u001b[39m(\u001b[38;5;28mself\u001b[39m):\n\u001b[1;32m    756\u001b[0m     index \u001b[38;5;241m=\u001b[39m \u001b[38;5;28mself\u001b[39m\u001b[38;5;241m.\u001b[39m_next_index()  \u001b[38;5;66;03m# may raise StopIteration\u001b[39;00m\n\u001b[0;32m--> 757\u001b[0m     data \u001b[38;5;241m=\u001b[39m \u001b[38;5;28;43mself\u001b[39;49m\u001b[38;5;241;43m.\u001b[39;49m\u001b[43m_dataset_fetcher\u001b[49m\u001b[38;5;241;43m.\u001b[39;49m\u001b[43mfetch\u001b[49m\u001b[43m(\u001b[49m\u001b[43mindex\u001b[49m\u001b[43m)\u001b[49m  \u001b[38;5;66;03m# may raise StopIteration\u001b[39;00m\n\u001b[1;32m    758\u001b[0m     \u001b[38;5;28;01mif\u001b[39;00m \u001b[38;5;28mself\u001b[39m\u001b[38;5;241m.\u001b[39m_pin_memory:\n\u001b[1;32m    759\u001b[0m         data \u001b[38;5;241m=\u001b[39m _utils\u001b[38;5;241m.\u001b[39mpin_memory\u001b[38;5;241m.\u001b[39mpin_memory(data, \u001b[38;5;28mself\u001b[39m\u001b[38;5;241m.\u001b[39m_pin_memory_device)\n",
      "File \u001b[0;32m/usr/local/lib/python3.9/site-packages/torch/utils/data/_utils/fetch.py:52\u001b[0m, in \u001b[0;36m_MapDatasetFetcher.fetch\u001b[0;34m(self, possibly_batched_index)\u001b[0m\n\u001b[1;32m     50\u001b[0m         data \u001b[38;5;241m=\u001b[39m \u001b[38;5;28mself\u001b[39m\u001b[38;5;241m.\u001b[39mdataset\u001b[38;5;241m.\u001b[39m__getitems__(possibly_batched_index)\n\u001b[1;32m     51\u001b[0m     \u001b[38;5;28;01melse\u001b[39;00m:\n\u001b[0;32m---> 52\u001b[0m         data \u001b[38;5;241m=\u001b[39m [\u001b[38;5;28mself\u001b[39m\u001b[38;5;241m.\u001b[39mdataset[idx] \u001b[38;5;28;01mfor\u001b[39;00m idx \u001b[38;5;129;01min\u001b[39;00m possibly_batched_index]\n\u001b[1;32m     53\u001b[0m \u001b[38;5;28;01melse\u001b[39;00m:\n\u001b[1;32m     54\u001b[0m     data \u001b[38;5;241m=\u001b[39m \u001b[38;5;28mself\u001b[39m\u001b[38;5;241m.\u001b[39mdataset[possibly_batched_index]\n",
      "File \u001b[0;32m/usr/local/lib/python3.9/site-packages/torch/utils/data/_utils/fetch.py:52\u001b[0m, in \u001b[0;36m<listcomp>\u001b[0;34m(.0)\u001b[0m\n\u001b[1;32m     50\u001b[0m         data \u001b[38;5;241m=\u001b[39m \u001b[38;5;28mself\u001b[39m\u001b[38;5;241m.\u001b[39mdataset\u001b[38;5;241m.\u001b[39m__getitems__(possibly_batched_index)\n\u001b[1;32m     51\u001b[0m     \u001b[38;5;28;01melse\u001b[39;00m:\n\u001b[0;32m---> 52\u001b[0m         data \u001b[38;5;241m=\u001b[39m [\u001b[38;5;28;43mself\u001b[39;49m\u001b[38;5;241;43m.\u001b[39;49m\u001b[43mdataset\u001b[49m\u001b[43m[\u001b[49m\u001b[43midx\u001b[49m\u001b[43m]\u001b[49m \u001b[38;5;28;01mfor\u001b[39;00m idx \u001b[38;5;129;01min\u001b[39;00m possibly_batched_index]\n\u001b[1;32m     53\u001b[0m \u001b[38;5;28;01melse\u001b[39;00m:\n\u001b[1;32m     54\u001b[0m     data \u001b[38;5;241m=\u001b[39m \u001b[38;5;28mself\u001b[39m\u001b[38;5;241m.\u001b[39mdataset[possibly_batched_index]\n",
      "Cell \u001b[0;32mIn[3], line 10\u001b[0m, in \u001b[0;36mMnistDataset.__getitem__\u001b[0;34m(self, idx)\u001b[0m\n\u001b[1;32m      9\u001b[0m \u001b[38;5;28;01mdef\u001b[39;00m \u001b[38;5;21m__getitem__\u001b[39m(\u001b[38;5;28mself\u001b[39m, idx):\n\u001b[0;32m---> 10\u001b[0m     slice_i \u001b[38;5;241m=\u001b[39m torch\u001b[38;5;241m.\u001b[39mtensor(\u001b[43mnp\u001b[49m\u001b[38;5;241;43m.\u001b[39;49m\u001b[43mtake\u001b[49m\u001b[43m(\u001b[49m\u001b[38;5;28;43mself\u001b[39;49m\u001b[38;5;241;43m.\u001b[39;49m\u001b[43mdata\u001b[49m\u001b[43m,\u001b[49m\u001b[43m \u001b[49m\u001b[43mindices\u001b[49m\u001b[38;5;241;43m=\u001b[39;49m\u001b[43midx\u001b[49m\u001b[43m,\u001b[49m\u001b[43m \u001b[49m\u001b[43maxis\u001b[49m\u001b[38;5;241;43m=\u001b[39;49m\u001b[38;5;241;43m0\u001b[39;49m\u001b[43m)\u001b[49m, dtype\u001b[38;5;241m=\u001b[39mtorch\u001b[38;5;241m.\u001b[39mfloat32)\n\u001b[1;32m     11\u001b[0m     target \u001b[38;5;241m=\u001b[39m \u001b[38;5;28mself\u001b[39m\u001b[38;5;241m.\u001b[39mtargets[idx]\n\u001b[1;32m     12\u001b[0m     \u001b[38;5;28;01mreturn\u001b[39;00m slice_i,target\n",
      "File \u001b[0;32m/usr/local/lib/python3.9/site-packages/numpy/core/fromnumeric.py:192\u001b[0m, in \u001b[0;36mtake\u001b[0;34m(a, indices, axis, out, mode)\u001b[0m\n\u001b[1;32m     95\u001b[0m \u001b[38;5;129m@array_function_dispatch\u001b[39m(_take_dispatcher)\n\u001b[1;32m     96\u001b[0m \u001b[38;5;28;01mdef\u001b[39;00m \u001b[38;5;21mtake\u001b[39m(a, indices, axis\u001b[38;5;241m=\u001b[39m\u001b[38;5;28;01mNone\u001b[39;00m, out\u001b[38;5;241m=\u001b[39m\u001b[38;5;28;01mNone\u001b[39;00m, mode\u001b[38;5;241m=\u001b[39m\u001b[38;5;124m'\u001b[39m\u001b[38;5;124mraise\u001b[39m\u001b[38;5;124m'\u001b[39m):\n\u001b[1;32m     97\u001b[0m \u001b[38;5;250m    \u001b[39m\u001b[38;5;124;03m\"\"\"\u001b[39;00m\n\u001b[1;32m     98\u001b[0m \u001b[38;5;124;03m    Take elements from an array along an axis.\u001b[39;00m\n\u001b[1;32m     99\u001b[0m \n\u001b[0;32m   (...)\u001b[0m\n\u001b[1;32m    190\u001b[0m \u001b[38;5;124;03m           [5, 7]])\u001b[39;00m\n\u001b[1;32m    191\u001b[0m \u001b[38;5;124;03m    \"\"\"\u001b[39;00m\n\u001b[0;32m--> 192\u001b[0m     \u001b[38;5;28;01mreturn\u001b[39;00m \u001b[43m_wrapfunc\u001b[49m\u001b[43m(\u001b[49m\u001b[43ma\u001b[49m\u001b[43m,\u001b[49m\u001b[43m \u001b[49m\u001b[38;5;124;43m'\u001b[39;49m\u001b[38;5;124;43mtake\u001b[39;49m\u001b[38;5;124;43m'\u001b[39;49m\u001b[43m,\u001b[49m\u001b[43m \u001b[49m\u001b[43mindices\u001b[49m\u001b[43m,\u001b[49m\u001b[43m \u001b[49m\u001b[43maxis\u001b[49m\u001b[38;5;241;43m=\u001b[39;49m\u001b[43maxis\u001b[49m\u001b[43m,\u001b[49m\u001b[43m \u001b[49m\u001b[43mout\u001b[49m\u001b[38;5;241;43m=\u001b[39;49m\u001b[43mout\u001b[49m\u001b[43m,\u001b[49m\u001b[43m \u001b[49m\u001b[43mmode\u001b[49m\u001b[38;5;241;43m=\u001b[39;49m\u001b[43mmode\u001b[49m\u001b[43m)\u001b[49m\n",
      "File \u001b[0;32m/usr/local/lib/python3.9/site-packages/numpy/core/fromnumeric.py:59\u001b[0m, in \u001b[0;36m_wrapfunc\u001b[0;34m(obj, method, *args, **kwds)\u001b[0m\n\u001b[1;32m     56\u001b[0m     \u001b[38;5;28;01mreturn\u001b[39;00m _wrapit(obj, method, \u001b[38;5;241m*\u001b[39margs, \u001b[38;5;241m*\u001b[39m\u001b[38;5;241m*\u001b[39mkwds)\n\u001b[1;32m     58\u001b[0m \u001b[38;5;28;01mtry\u001b[39;00m:\n\u001b[0;32m---> 59\u001b[0m     \u001b[38;5;28;01mreturn\u001b[39;00m \u001b[43mbound\u001b[49m\u001b[43m(\u001b[49m\u001b[38;5;241;43m*\u001b[39;49m\u001b[43margs\u001b[49m\u001b[43m,\u001b[49m\u001b[43m \u001b[49m\u001b[38;5;241;43m*\u001b[39;49m\u001b[38;5;241;43m*\u001b[39;49m\u001b[43mkwds\u001b[49m\u001b[43m)\u001b[49m\n\u001b[1;32m     60\u001b[0m \u001b[38;5;28;01mexcept\u001b[39;00m \u001b[38;5;167;01mTypeError\u001b[39;00m:\n\u001b[1;32m     61\u001b[0m     \u001b[38;5;66;03m# A TypeError occurs if the object does have such a method in its\u001b[39;00m\n\u001b[1;32m     62\u001b[0m     \u001b[38;5;66;03m# class, but its signature is not identical to that of NumPy's. This\u001b[39;00m\n\u001b[0;32m   (...)\u001b[0m\n\u001b[1;32m     66\u001b[0m     \u001b[38;5;66;03m# Call _wrapit from within the except clause to ensure a potential\u001b[39;00m\n\u001b[1;32m     67\u001b[0m     \u001b[38;5;66;03m# exception has a traceback chain.\u001b[39;00m\n\u001b[1;32m     68\u001b[0m     \u001b[38;5;28;01mreturn\u001b[39;00m _wrapit(obj, method, \u001b[38;5;241m*\u001b[39margs, \u001b[38;5;241m*\u001b[39m\u001b[38;5;241m*\u001b[39mkwds)\n",
      "\u001b[0;31mKeyboardInterrupt\u001b[0m: "
     ]
    }
   ],
   "source": [
    "class simple_autoencoder(torch.nn.Module):\n",
    "    def __init__(self):\n",
    "        super(simple_autoencoder, self).__init__()\n",
    "\n",
    "        self.enc_conv1 = nn.Conv2d(1, 32, 3, 1)\n",
    "        self.enc_conv2 = nn.Conv2d(32, 64, 3, 1)\n",
    "        self.enc_dropout1 = nn.Dropout(0.25)\n",
    "        self.enc_dropout2 = nn.Dropout(0.5)\n",
    "        self.enc_fc1 = nn.Linear(9216, 128)\n",
    "        self.enc_fc2 = nn.Linear(128, 10)\n",
    "\n",
    "        self.dec_fc1 = nn.Linear(10,128)\n",
    "        self.dec_fc2 = nn.Linear(128,9216)\n",
    "        self.enc_dropout1 = nn.Dropout(0.5)\n",
    "        self.enc_dropout2 = nn.Dropout(0.25)\n",
    "        self.dec_deconv1 = nn.ConvTranspose2d(64, 32, kernel_size=3, stride=1)\n",
    "        self.dec_deconv2 = nn.ConvTranspose2d(32, 1, kernel_size=3, stride=1)\n",
    "\n",
    "\n",
    "        self.upsample = nn.Upsample(scale_factor=2, mode='nearest')\n",
    "\n",
    "\n",
    "    def encoder(self,input):\n",
    "        x = input.view(-1,1,28,28)\n",
    "        x = self.enc_conv1(x)\n",
    "        x = F.relu(x)\n",
    "        x = self.enc_conv2(x)\n",
    "        x = F.relu(x)\n",
    "        x = F.max_pool2d(x, 2)\n",
    "        x = self.enc_dropout1(x)\n",
    "        x = torch.flatten(x, 1)\n",
    "        x = self.enc_fc1(x)\n",
    "        x = F.relu(x)\n",
    "        x = self.enc_dropout2(x)\n",
    "        x = self.enc_fc2(x)\n",
    "        latent = F.relu(x)\n",
    "        return latent\n",
    "\n",
    "    def decoder(self, latent):\n",
    "        x = self.dec_fc1(latent)\n",
    "        x = F.relu(x)\n",
    "        x = self.dec_dropout1(x)\n",
    "        x = self.dec_fc2(x)\n",
    "        x = F.relu(x)\n",
    "        x = self.dec_dropout2(x)\n",
    "        x = self.upsample(x)\n",
    "        x = self.dec_deconv1(x)\n",
    "        x = self.relu(x)\n",
    "        x = self.dec_deconv2(x)\n",
    "        x = self.relu(x)\n",
    "        x = torch.flatten(x,1)\n",
    "        return x\n",
    "        \n",
    "    def forward(self, input):\n",
    "        \n",
    "        latent = self.encoder(input)\n",
    "        # pred = self.latent_prediction(latent)\n",
    "        # x = self.decoder(latent)\n",
    "\n",
    "        return latent\n",
    "\n",
    "    def generate_image_from_one_hot(self,latent):\n",
    "        return self.decoder(latent)\n",
    "\n",
    "def visualise_prediction(model, batch,index = 0):\n",
    "    data,label = batch\n",
    "    model.eval()  # Set model to evaluation mode\n",
    "    with torch.no_grad():  # Disable gradient tracking for efficiency\n",
    "        input = torch.tensor(np.expand_dims(data, axis=0), dtype=torch.float32)\n",
    "        # input = data\n",
    "        # print(\"input\",input.shape,input)\n",
    "        # predicted_output,pred_label = model(input)\n",
    "        pred_label = model(input)\n",
    "        pred_label = pred_label.argmax(dim=1)\n",
    "        # predicted_output = predicted_output.numpy()[0]\n",
    "        # print(\"pred\",predicted_output.shape,predicted_output)\n",
    "        print(\"input_image\", label)\n",
    "        show_bw_image(input)\n",
    "\n",
    "        print(\"predicted_image\", pred_label)\n",
    "        # show_bw_image(predicted_output)\n",
    "\n",
    "def generate_image_from_one_hot(model, number = None,one_hot = None):\n",
    "    if number or number == 0:\n",
    "            print(f\"generating image for number {number}\")\n",
    "            one_hot = [0] * 10\n",
    "            one_hot[number] = 1\n",
    "    one_hot = torch.tensor(one_hot, dtype=torch.float32)\n",
    "    # print(\"onehot\",type(one_hot),one_hot.shape)\n",
    "    model.eval()\n",
    "    with torch.no_grad():\n",
    "        predicted_output = model.generate_image_from_one_hot(one_hot)\n",
    "        predicted_output = predicted_output.numpy()\n",
    "        print(predicted_output.shape)\n",
    "        show_bw_image(predicted_output)\n",
    "        \n",
    "def plot_losses(val_losses,train_losses):\n",
    "    epochs = range(1, len(train_losses) + 1)\n",
    "    plt.figure(figsize=(8, 5))\n",
    "    plt.plot(epochs, train_losses, label='Training Loss')\n",
    "    plt.plot(epochs, val_losses, label='Validation Loss')\n",
    "    plt.xlabel('Epoch')\n",
    "    plt.ylabel('Loss')\n",
    "    plt.title('Training vs Validation Loss')\n",
    "    plt.legend()\n",
    "    plt.grid(True)\n",
    "    plt.tight_layout()\n",
    "    plt.show()\n",
    "    \n",
    "def Validate(model, val_loader):\n",
    "    MSE_loss = nn.MSELoss()\n",
    "    CE_loss = nn.CrossEntropyLoss()\n",
    "    model.eval()\n",
    "    losses = []\n",
    "    correct_guesses = 0\n",
    "    total_guesses = 0\n",
    "    with torch.no_grad():\n",
    "        for batch in val_loader:\n",
    "            input,target = batch\n",
    "            one_hot_target = F.one_hot(target, num_classes=10).float()\n",
    "            output, latent = model(input)\n",
    "            # print(\"latent shape\",latent.shape)\n",
    "            # print(\"latent argax\", latent.argmax(axis = 1))\n",
    "            \n",
    "            for i, pred in enumerate(latent.argmax(axis = 1)):\n",
    "                if pred == target[i]:\n",
    "                    correct_guesses += 1\n",
    "                total_guesses += 1\n",
    "            # mse_loss = MSE_loss(output, input)\n",
    "            ce_loss = CE_loss(latent, one_hot_target)\n",
    "            loss = ce_loss\n",
    "            losses.append(loss.item())\n",
    "    # print(\"total\",total_guesses, \"correct\", correct_guesses)\n",
    "    return np.mean(losses), (correct_guesses/total_guesses)\n",
    "    \n",
    "def Train(model,train_loader, val_loader, epochs,lr):\n",
    "    MSE_loss = nn.MSELoss()\n",
    "    CE_loss = nn.CrossEntropyLoss()\n",
    "    optimizer = optim.Adam(model.parameters(), lr=lr)\n",
    "    gradients = []\n",
    "    epoch_val_losses = []\n",
    "    epoch_train_losses = []\n",
    "    epoch_val_accuracies = []\n",
    "    for epoch in range(epochs):\n",
    "        model.train()\n",
    "        losses = []\n",
    "        for i,batch in enumerate(train_loader):\n",
    "            print(\"batch\",i)\n",
    "            input,target = batch\n",
    "            # print(\"input\",input.shape)\n",
    "            # print(\"target\", type(target))\n",
    "            target = F.one_hot(target, num_classes=10).float()\n",
    "\n",
    "            optimizer.zero_grad() #sets initial gradients to 0 for security purposes\n",
    "        \n",
    "            # output, latent = model(input)\n",
    "            latent = model(input)\n",
    "            # print(\"latent\",latent.shape,\"target\",target.shape)\n",
    "            # mse_loss = MSE_loss(output, input)\n",
    "            ce_loss = CE_loss(latent, target)\n",
    "            loss = ce_loss\n",
    "            losses.append(loss.item())\n",
    "            loss.backward()\n",
    "            optimizer.step()\n",
    "        val_loss,val_accuracy = Validate(model, val_loader)\n",
    "        epoch_val_accuracies.append(val_accuracy)\n",
    "        epoch_val_losses.append(val_loss)\n",
    "        epoch_train_losses.append(np.mean(losses))\n",
    "        # print('epoch {}, loss {}'.format(epoch, loss.item()))\n",
    "        print(f'epoch {epoch},accuracy {val_accuracy}, validation loss {epoch_val_losses[-1]}, train loss {epoch_train_losses[-1]}')\n",
    "\n",
    "    plot_losses(epoch_val_losses,epoch_train_losses)  \n",
    "\n",
    "\n",
    "    \n",
    "learning_rate = 0.0001\n",
    "num_epochs = 30\n",
    "\n",
    "model = simple_autoencoder()\n",
    "visualise_prediction(model,val_dataset[random.randrange(10)])\n",
    "# generate_image_from_one_hot(model,number = 0)\n",
    "Train(model,train_loader, val_loader, num_epochs,learning_rate)\n",
    "visualise_prediction(model,val_dataset[random.randrange(10)])\n",
    "# generate_image_from_one_hot(model,number = 0)\n"
   ]
  },
  {
   "cell_type": "code",
   "execution_count": 50,
   "id": "97ca4f0d-514d-4e18-85f3-2e5646f72e9a",
   "metadata": {},
   "outputs": [
    {
     "data": {
      "image/png": "[encoded data removed]",
      "text/plain": [
       "<Figure size 2000x200 with 20 Axes>"
      ]
     },
     "metadata": {},
     "output_type": "display_data"
    }
   ],
   "source": [
    "import matplotlib.pyplot as plt\n",
    "import torch\n",
    "import numpy as np\n",
    "\n",
    "def morph_in_grid(model, class_from, class_to, steps=20):\n",
    "    # One-hot vectors\n",
    "    vec_from = torch.zeros(10)\n",
    "    vec_from[class_from] = 1.0\n",
    "\n",
    "    vec_to = torch.zeros(10)\n",
    "    vec_to[class_to] = 1.0\n",
    "\n",
    "    fig, axes = plt.subplots(1, steps, figsize=(steps, 2))\n",
    "\n",
    "    for i in range(steps):\n",
    "        alpha = i / (steps - 1)\n",
    "        interp = (1 - alpha) * vec_from + alpha * vec_to\n",
    "        with torch.no_grad():\n",
    "            output = model.decoder(interp.unsqueeze(0)).numpy().reshape(8, 8)\n",
    "        axes[i].imshow(output, cmap='gray', vmin=0, vmax=1)\n",
    "        axes[i].axis('off')\n",
    "        axes[i].set_title(f\"{alpha:.2f}\", fontsize=6)\n",
    "\n",
    "    fig.suptitle(f\"Morphing {class_from} → {class_to}\")\n",
    "    plt.tight_layout()\n",
    "    plt.show()\n",
    "\n",
    "morph_in_grid(model, class_from=2, class_to=3)\n"
   ]
  },
  {
   "cell_type": "code",
   "execution_count": 51,
   "id": "a2169a2f-7f5a-436b-9b14-34959fd6fb0d",
   "metadata": {},
   "outputs": [
    {
     "name": "stdout",
     "output_type": "stream",
     "text": [
      "tensor([ 0.,  4., 16., 15.,  2.,  0.,  0.,  0.,  0., 11., 15., 15.,  7.,  0.,\n",
      "         0.,  0.,  0.,  9., 10.,  6., 14.,  0.,  0.,  0.,  0.,  0.,  0.,  7.,\n",
      "        15.,  0.,  0.,  0.,  0.,  0.,  0., 13., 10.,  0.,  0.,  0.,  0.,  0.,\n",
      "         1., 16.,  7.,  2.,  2.,  0.,  0.,  1., 12., 16., 15., 16., 15.,  0.,\n",
      "         0.,  4., 16., 16., 16., 12., 11.,  0.])\n",
      "input_image 2\n"
     ]
    },
    {
     "data": {
      "image/png": "[encoded data removed]",
      "text/plain": [
       "<Figure size 640x480 with 1 Axes>"
      ]
     },
     "metadata": {},
     "output_type": "display_data"
    },
    {
     "name": "stdout",
     "output_type": "stream",
     "text": [
      "predicted_image tensor([2])\n"
     ]
    },
    {
     "data": {
      "image/png": "[encoded data removed]",
      "text/plain": [
       "<Figure size 640x480 with 1 Axes>"
      ]
     },
     "metadata": {},
     "output_type": "display_data"
    },
    {
     "name": "stdout",
     "output_type": "stream",
     "text": [
      "tensor([ 0.,  0.,  2., 13., 16., 16.,  7.,  0.,  0.,  0., 12., 15., 12., 16.,\n",
      "        10.,  0.,  0.,  0., 16.,  9.,  0., 14.,  6.,  0.,  0.,  0.,  3.,  0.,\n",
      "         4., 16.,  1.,  0.,  0.,  0.,  0., 10., 14., 16.,  6.,  0.,  0.,  0.,\n",
      "         3., 16., 16., 11.,  2.,  0.,  0.,  0.,  0.,  9., 14.,  0.,  0.,  0.,\n",
      "         0.,  0.,  2., 15.,  6.,  0.,  0.,  0.])\n",
      "input_image 7\n"
     ]
    },
    {
     "data": {
      "image/png": "[encoded data removed]",
      "text/plain": [
       "<Figure size 640x480 with 1 Axes>"
      ]
     },
     "metadata": {},
     "output_type": "display_data"
    },
    {
     "name": "stdout",
     "output_type": "stream",
     "text": [
      "predicted_image tensor([7])\n"
     ]
    },
    {
     "data": {
      "image/png": "[encoded data removed]",
      "text/plain": [
       "<Figure size 640x480 with 1 Axes>"
      ]
     },
     "metadata": {},
     "output_type": "display_data"
    },
    {
     "name": "stdout",
     "output_type": "stream",
     "text": [
      "tensor([ 0.,  0.,  0.,  7., 16., 16., 11.,  0.,  0.,  0.,  6., 16., 16., 16.,\n",
      "        16.,  0.,  0.,  0., 11., 16., 16., 16.,  9.,  0.,  0.,  0.,  2.,  9.,\n",
      "        11., 14., 10.,  0.,  0.,  0.,  0.,  0.,  0., 10.,  6.,  0.,  0.,  0.,\n",
      "         0.,  0.,  4., 11.,  1.,  0.,  0.,  0.,  0.,  2., 14.,  2.,  0.,  0.,\n",
      "         0.,  0.,  0., 11.,  3.,  0.,  0.,  0.])\n",
      "input_image 9\n"
     ]
    },
    {
     "data": {
      "image/png": "[encoded data removed]",
      "text/plain": [
       "<Figure size 640x480 with 1 Axes>"
      ]
     },
     "metadata": {},
     "output_type": "display_data"
    },
    {
     "name": "stdout",
     "output_type": "stream",
     "text": [
      "predicted_image tensor([1])\n"
     ]
    },
    {
     "data": {
      "image/png": "[encoded data removed]",
      "text/plain": [
       "<Figure size 640x480 with 1 Axes>"
      ]
     },
     "metadata": {},
     "output_type": "display_data"
    },
    {
     "name": "stdout",
     "output_type": "stream",
     "text": [
      "tensor([ 0.,  0.,  0., 11.,  9.,  0.,  0.,  0.,  0.,  0.,  0., 11., 14.,  0.,\n",
      "         0.,  0.,  0.,  0.,  0., 11., 13.,  0.,  0.,  0.,  0.,  0.,  0., 15.,\n",
      "        13.,  0.,  0.,  0.,  0.,  0.,  0., 13., 13.,  0.,  0.,  0.,  0.,  0.,\n",
      "         0., 13.,  9.,  0.,  0.,  0.,  0.,  0.,  0., 10., 10.,  0.,  0.,  0.,\n",
      "         0.,  0.,  0.,  9., 11.,  0.,  0.,  0.])\n",
      "input_image 1\n"
     ]
    },
    {
     "data": {
      "image/png": "[encoded data removed]",
      "text/plain": [
       "<Figure size 640x480 with 1 Axes>"
      ]
     },
     "metadata": {},
     "output_type": "display_data"
    },
    {
     "name": "stdout",
     "output_type": "stream",
     "text": [
      "predicted_image tensor([1])\n"
     ]
    },
    {
     "data": {
      "image/png": "[encoded data removed]",
      "text/plain": [
       "<Figure size 640x480 with 1 Axes>"
      ]
     },
     "metadata": {},
     "output_type": "display_data"
    },
    {
     "name": "stdout",
     "output_type": "stream",
     "text": [
      "tensor([ 0.,  2., 13., 16., 12.,  0.,  0.,  0.,  0.,  9., 15., 10., 16.,  3.,\n",
      "         0.,  0.,  0.,  5.,  7.,  5., 16.,  3.,  0.,  0.,  0.,  0.,  0., 10.,\n",
      "        14.,  0.,  0.,  0.,  0.,  0.,  5., 16.,  7.,  0.,  0.,  0.,  0.,  0.,\n",
      "        14., 16.,  1.,  3.,  7.,  1.,  0.,  3., 16., 12., 10., 16., 11.,  1.,\n",
      "         0.,  0., 13., 16., 13.,  7.,  1.,  0.])\n",
      "input_image 2\n"
     ]
    },
    {
     "data": {
      "image/png": "[encoded data removed]",
      "text/plain": [
       "<Figure size 640x480 with 1 Axes>"
      ]
     },
     "metadata": {},
     "output_type": "display_data"
    },
    {
     "name": "stdout",
     "output_type": "stream",
     "text": [
      "predicted_image tensor([2])\n"
     ]
    },
    {
     "data": {
      "image/png": "[encoded data removed]",
      "text/plain": [
       "<Figure size 640x480 with 1 Axes>"
      ]
     },
     "metadata": {},
     "output_type": "display_data"
    },
    {
     "name": "stdout",
     "output_type": "stream",
     "text": [
      "tensor([ 0.,  0.,  4., 14., 11.,  3.,  0.,  0.,  0.,  0., 10., 16., 12., 14.,\n",
      "         1.,  0.,  0.,  1., 14., 12.,  0., 13.,  3.,  0.,  0.,  5., 16.,  6.,\n",
      "         0.,  8.,  6.,  0.,  0.,  8., 16.,  0.,  0.,  9.,  8.,  0.,  0.,  7.,\n",
      "        16.,  3.,  7., 16.,  5.,  0.,  0.,  3., 15., 13., 16., 15.,  2.,  0.,\n",
      "         0.,  0.,  4., 15., 12.,  2.,  0.,  0.])\n",
      "input_image 0\n"
     ]
    },
    {
     "data": {
      "image/png": "[encoded data removed]",
      "text/plain": [
       "<Figure size 640x480 with 1 Axes>"
      ]
     },
     "metadata": {},
     "output_type": "display_data"
    },
    {
     "name": "stdout",
     "output_type": "stream",
     "text": [
      "predicted_image tensor([0])\n"
     ]
    },
    {
     "data": {
      "image/png": "[encoded data removed]",
      "text/plain": [
       "<Figure size 640x480 with 1 Axes>"
      ]
     },
     "metadata": {},
     "output_type": "display_data"
    },
    {
     "name": "stdout",
     "output_type": "stream",
     "text": [
      "tensor([ 0.,  0.,  8., 12., 11.,  6.,  0.,  0.,  0.,  0.,  8., 16., 16., 13.,\n",
      "         2.,  0.,  0.,  2., 14., 16., 16., 14.,  2.,  0.,  0.,  2., 13., 16.,\n",
      "        16.,  8.,  0.,  0.,  0.,  4., 16., 16., 16.,  8.,  0.,  0.,  0.,  4.,\n",
      "        16., 16., 16., 10.,  0.,  0.,  0.,  1., 11., 16., 16.,  8.,  0.,  0.,\n",
      "         0.,  0.,  4., 11., 12.,  7.,  0.,  0.])\n",
      "input_image 1\n"
     ]
    },
    {
     "data": {
      "image/png": "[encoded data removed]",
      "text/plain": [
       "<Figure size 640x480 with 1 Axes>"
      ]
     },
     "metadata": {},
     "output_type": "display_data"
    },
    {
     "name": "stdout",
     "output_type": "stream",
     "text": [
      "predicted_image tensor([8])\n"
     ]
    },
    {
     "data": {
      "image/png": "[encoded data removed]",
      "text/plain": [
       "<Figure size 640x480 with 1 Axes>"
      ]
     },
     "metadata": {},
     "output_type": "display_data"
    },
    {
     "name": "stdout",
     "output_type": "stream",
     "text": [
      "tensor([ 0.,  0.,  5., 14., 14.,  2.,  0.,  0.,  0.,  2., 16., 16., 16.,  7.,\n",
      "         0.,  0.,  0.,  0.,  7.,  4., 16., 12.,  0.,  0.,  0.,  0.,  1.,  9.,\n",
      "        16., 16.,  8.,  0.,  0.,  3., 15., 16., 16., 10.,  2.,  0.,  0.,  4.,\n",
      "        16., 16., 11.,  0.,  0.,  0.,  0.,  0.,  9., 16.,  5.,  0.,  0.,  0.,\n",
      "         0.,  0.,  9., 13.,  0.,  0.,  0.,  0.])\n",
      "input_image 7\n"
     ]
    },
    {
     "data": {
      "image/png": "[encoded data removed]",
      "text/plain": [
       "<Figure size 640x480 with 1 Axes>"
      ]
     },
     "metadata": {},
     "output_type": "display_data"
    },
    {
     "name": "stdout",
     "output_type": "stream",
     "text": [
      "predicted_image tensor([7])\n"
     ]
    },
    {
     "data": {
      "image/png": "[encoded data removed]",
      "text/plain": [
       "<Figure size 640x480 with 1 Axes>"
      ]
     },
     "metadata": {},
     "output_type": "display_data"
    },
    {
     "name": "stdout",
     "output_type": "stream",
     "text": [
      "tensor([ 0.,  0.,  8., 16., 11.,  0.,  0.,  0.,  0.,  2., 15.,  8., 16.,  7.,\n",
      "         0.,  0.,  0.,  3., 13.,  1., 14., 13.,  0.,  0.,  0.,  0., 10., 16.,\n",
      "        16., 16.,  3.,  0.,  0.,  0.,  0.,  2.,  5., 15.,  4.,  0.,  0.,  0.,\n",
      "         0.,  0.,  0., 12.,  6.,  0.,  0.,  0.,  5.,  6.,  5., 15.,  4.,  0.,\n",
      "         0.,  0.,  6., 15., 16., 12.,  1.,  0.])\n",
      "input_image 9\n"
     ]
    },
    {
     "data": {
      "image/png": "[encoded data removed]",
      "text/plain": [
       "<Figure size 640x480 with 1 Axes>"
      ]
     },
     "metadata": {},
     "output_type": "display_data"
    },
    {
     "name": "stdout",
     "output_type": "stream",
     "text": [
      "predicted_image tensor([9])\n"
     ]
    },
    {
     "data": {
      "image/png": "[encoded data removed]",
      "text/plain": [
       "<Figure size 640x480 with 1 Axes>"
      ]
     },
     "metadata": {},
     "output_type": "display_data"
    },
    {
     "name": "stdout",
     "output_type": "stream",
     "text": [
      "tensor([ 0.,  0., 10., 14.,  8.,  1.,  0.,  0.,  0.,  2., 16., 14.,  6.,  1.,\n",
      "         0.,  0.,  0.,  0., 15., 15.,  8., 15.,  0.,  0.,  0.,  0.,  5., 16.,\n",
      "        16., 10.,  0.,  0.,  0.,  0., 12., 15., 15., 12.,  0.,  0.,  0.,  4.,\n",
      "        16.,  6.,  4., 16.,  6.,  0.,  0.,  8., 16., 10.,  8., 16.,  8.,  0.,\n",
      "         0.,  1.,  8., 12., 14., 12.,  1.,  0.])\n",
      "input_image 8\n"
     ]
    },
    {
     "data": {
      "image/png": "[encoded data removed]",
      "text/plain": [
       "<Figure size 640x480 with 1 Axes>"
      ]
     },
     "metadata": {},
     "output_type": "display_data"
    },
    {
     "name": "stdout",
     "output_type": "stream",
     "text": [
      "predicted_image tensor([8])\n"
     ]
    },
    {
     "data": {
      "image/png": "[encoded data removed]",
      "text/plain": [
       "<Figure size 640x480 with 1 Axes>"
      ]
     },
     "metadata": {},
     "output_type": "display_data"
    }
   ],
   "source": [
    "import random\n",
    "\n",
    "indices = random.sample(range(len(val_dataset)), 10)\n",
    "for i in indices:\n",
    "    # print(i)\n",
    "    # print(val_dataset[i])\n",
    "    visualise_prediction(model, val_dataset[i])"
   ]
  },
  {
   "cell_type": "code",
   "execution_count": null,
   "id": "e03846d1-2830-49bc-b116-91fdabde77af",
   "metadata": {},
   "outputs": [],
   "source": []
  }
 ],
 "metadata": {
  "kernelspec": {
   "display_name": "Python 3 (ipykernel)",
   "language": "python",
   "name": "python3"
  },
  "language_info": {
   "codemirror_mode": {
    "name": "ipython",
    "version": 3
   },
   "file_extension": ".py",
   "mimetype": "text/x-python",
   "name": "python",
   "nbconvert_exporter": "python",
   "pygments_lexer": "ipython3",
   "version": "3.9.17"
  }
 },
 "nbformat": 4,
 "nbformat_minor": 5
}
