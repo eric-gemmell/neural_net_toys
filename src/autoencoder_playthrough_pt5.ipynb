{
 "cells": [
  {
   "cell_type": "code",
   "execution_count": 6,
   "id": "071d5237-3d47-4fbb-af79-7f18b6f87de5",
   "metadata": {},
   "outputs": [
    {
     "name": "stderr",
     "output_type": "stream",
     "text": [
      "/home/e.gemmell/neural_net_toys/venv/lib/python3.8/site-packages/sklearn/datasets/_openml.py:1022: FutureWarning: The default value of `parser` will change from `'liac-arff'` to `'auto'` in 1.4. You can set `parser='auto'` to silence this warning. Therefore, an `ImportError` will be raised from 1.4 if the dataset is dense and pandas is not installed. Note that the pandas parser may return different data types. See the Notes Section in fetch_openml's API doc for details.\n",
      "  warn(\n"
     ]
    },
    {
     "name": "stdout",
     "output_type": "stream",
     "text": [
      "(70000, 784) (70000,)\n"
     ]
    }
   ],
   "source": [
    "import torch\n",
    "from torch.autograd import Variable\n",
    "import numpy as np\n",
    "import torch.nn as nn\n",
    "import torch.nn.functional as F\n",
    "import torch.optim as optim\n",
    "import matplotlib.pyplot as plt\n",
    "from sklearn.datasets import load_digits\n",
    "from sklearn.datasets import fetch_openml\n",
    "import random\n",
    "\n",
    "device = torch.device(\"cuda\" if torch.cuda.is_available() else \"cpu\")\n",
    "x, y = fetch_openml(\"mnist_784\", version=1, return_X_y=True, as_frame=False)\n",
    "print(x.shape,y.shape)"
   ]
  },
  {
   "cell_type": "code",
   "execution_count": 7,
   "id": "18ee6070-b228-487a-b335-d6bfb7147e9a",
   "metadata": {},
   "outputs": [
    {
     "data": {
      "image/png": "[encoded data removed]",
      "text/plain": [
       "<Figure size 640x480 with 1 Axes>"
      ]
     },
     "metadata": {},
     "output_type": "display_data"
    },
    {
     "data": {
      "image/png": "[encoded data removed]",
      "text/plain": [
       "<Figure size 640x480 with 1 Axes>"
      ]
     },
     "metadata": {},
     "output_type": "display_data"
    }
   ],
   "source": [
    "class MnistDataset(torch.utils.data.Dataset):\n",
    "    def __init__(self, data,targets):\n",
    "        self.data = data\n",
    "        self.targets = targets\n",
    "\n",
    "    def __len__(self):\n",
    "        return self.data.shape[0]\n",
    "\n",
    "    def __getitem__(self, idx):\n",
    "        slice_i = torch.tensor(np.take(self.data, indices=idx, axis=0), dtype=torch.float32)\n",
    "        target = self.targets[idx]\n",
    "        return slice_i,target\n",
    "\n",
    "def show_bw_image(img_array):\n",
    "    plt.imshow(img_array.reshape(28,28), cmap='gray')\n",
    "    plt.axis('off')\n",
    "    plt.show()\n",
    "\n",
    "X = x/255\n",
    "Y = np.array([int(num) for num in y])\n",
    "# print(type(Y),type(Y[0]))\n",
    "train_dataset = MnistDataset(X[:63000],Y[:63000])\n",
    "val_dataset = MnistDataset(X[63000:],Y[63000:])\n",
    "show_bw_image(train_dataset[0][0])\n",
    "\n",
    "train_loader = torch.utils.data.DataLoader(train_dataset, batch_size=8, shuffle=True)\n",
    "val_loader = torch.utils.data.DataLoader(val_dataset, batch_size=1, shuffle=False)\n",
    "show_bw_image(next(iter(train_loader))[0][0])\n",
    "# data, target = next(iter(train_loader))\n",
    "# print(\"data\",data,\"target\",target)"
   ]
  },
  {
   "cell_type": "code",
   "execution_count": 24,
   "id": "dfafe1ed-138d-4f07-8e34-65cc9282a83b",
   "metadata": {
    "scrolled": true
   },
   "outputs": [
    {
     "name": "stdout",
     "output_type": "stream",
     "text": [
      "torch.Size([1, 1, 28, 28])\n",
      "torch.Size([1, 32, 26, 26])\n",
      "torch.Size([1, 64, 24, 24])\n",
      "torch.Size([1, 64, 12, 12])\n",
      "torch.Size([1, 9216])\n",
      "torch.Size([1, 10])\n",
      "decoder\n",
      "torch.Size([1, 128])\n",
      "torch.Size([1, 9216])\n",
      "torch.Size([1, 64, 12, 12])\n",
      "pred torch.Size([1]) tensor([9])\n",
      "input_image 2\n"
     ]
    },
    {
     "data": {
      "image/png": "[encoded data removed]",
      "text/plain": [
       "<Figure size 640x480 with 1 Axes>"
      ]
     },
     "metadata": {},
     "output_type": "display_data"
    },
    {
     "name": "stdout",
     "output_type": "stream",
     "text": [
      "predicted_image tensor([9])\n"
     ]
    },
    {
     "data": {
      "image/png": "[encoded data removed]",
      "text/plain": [
       "<Figure size 640x480 with 1 Axes>"
      ]
     },
     "metadata": {},
     "output_type": "display_data"
    },
    {
     "name": "stdout",
     "output_type": "stream",
     "text": [
      "batch 0\n",
      "torch.Size([8, 1, 28, 28])\n",
      "torch.Size([8, 32, 26, 26])\n",
      "torch.Size([8, 64, 24, 24])\n",
      "torch.Size([8, 64, 12, 12])\n",
      "torch.Size([8, 9216])\n",
      "torch.Size([8, 10])\n",
      "decoder\n",
      "torch.Size([8, 128])\n",
      "torch.Size([8, 9216])\n",
      "torch.Size([8, 64, 12, 12])\n"
     ]
    },
    {
     "ename": "TypeError",
     "evalue": "cross_entropy_loss(): argument 'input' (position 1) must be Tensor, not tuple",
     "output_type": "error",
     "traceback": [
      "\u001b[0;31m---------------------------------------------------------------------------\u001b[0m",
      "\u001b[0;31mTypeError\u001b[0m                                 Traceback (most recent call last)",
      "Cell \u001b[0;32mIn[24], line 196\u001b[0m\n\u001b[1;32m    194\u001b[0m visualise_prediction(model,val_dataset[random\u001b[38;5;241m.\u001b[39mrandrange(\u001b[38;5;241m10\u001b[39m)])\n\u001b[1;32m    195\u001b[0m \u001b[38;5;66;03m# generate_image_from_one_hot(model,number = 0)\u001b[39;00m\n\u001b[0;32m--> 196\u001b[0m \u001b[43mTrain\u001b[49m\u001b[43m(\u001b[49m\u001b[43mmodel\u001b[49m\u001b[43m,\u001b[49m\u001b[43mtrain_loader\u001b[49m\u001b[43m,\u001b[49m\u001b[43m \u001b[49m\u001b[43mval_loader\u001b[49m\u001b[43m,\u001b[49m\u001b[43m \u001b[49m\u001b[43mnum_epochs\u001b[49m\u001b[43m,\u001b[49m\u001b[43mlearning_rate\u001b[49m\u001b[43m)\u001b[49m\n\u001b[1;32m    197\u001b[0m visualise_prediction(model,val_dataset[random\u001b[38;5;241m.\u001b[39mrandrange(\u001b[38;5;241m10\u001b[39m)])\n\u001b[1;32m    198\u001b[0m \u001b[38;5;66;03m# generate_image_from_one_hot(model,number = 0)\u001b[39;00m\n",
      "Cell \u001b[0;32mIn[24], line 174\u001b[0m, in \u001b[0;36mTrain\u001b[0;34m(model, train_loader, val_loader, epochs, lr)\u001b[0m\n\u001b[1;32m    171\u001b[0m latent \u001b[38;5;241m=\u001b[39m model(\u001b[38;5;28minput\u001b[39m)\n\u001b[1;32m    172\u001b[0m \u001b[38;5;66;03m# print(\"latent\",latent.shape,\"target\",target.shape)\u001b[39;00m\n\u001b[1;32m    173\u001b[0m \u001b[38;5;66;03m# mse_loss = MSE_loss(output, input)\u001b[39;00m\n\u001b[0;32m--> 174\u001b[0m ce_loss \u001b[38;5;241m=\u001b[39m \u001b[43mCE_loss\u001b[49m\u001b[43m(\u001b[49m\u001b[43mlatent\u001b[49m\u001b[43m,\u001b[49m\u001b[43m \u001b[49m\u001b[43mtarget\u001b[49m\u001b[43m)\u001b[49m\n\u001b[1;32m    175\u001b[0m loss \u001b[38;5;241m=\u001b[39m ce_loss\n\u001b[1;32m    176\u001b[0m losses\u001b[38;5;241m.\u001b[39mappend(loss\u001b[38;5;241m.\u001b[39mitem())\n",
      "File \u001b[0;32m~/neural_net_toys/venv/lib/python3.8/site-packages/torch/nn/modules/module.py:1553\u001b[0m, in \u001b[0;36mModule._wrapped_call_impl\u001b[0;34m(self, *args, **kwargs)\u001b[0m\n\u001b[1;32m   1551\u001b[0m     \u001b[38;5;28;01mreturn\u001b[39;00m \u001b[38;5;28mself\u001b[39m\u001b[38;5;241m.\u001b[39m_compiled_call_impl(\u001b[38;5;241m*\u001b[39margs, \u001b[38;5;241m*\u001b[39m\u001b[38;5;241m*\u001b[39mkwargs)  \u001b[38;5;66;03m# type: ignore[misc]\u001b[39;00m\n\u001b[1;32m   1552\u001b[0m \u001b[38;5;28;01melse\u001b[39;00m:\n\u001b[0;32m-> 1553\u001b[0m     \u001b[38;5;28;01mreturn\u001b[39;00m \u001b[38;5;28;43mself\u001b[39;49m\u001b[38;5;241;43m.\u001b[39;49m\u001b[43m_call_impl\u001b[49m\u001b[43m(\u001b[49m\u001b[38;5;241;43m*\u001b[39;49m\u001b[43margs\u001b[49m\u001b[43m,\u001b[49m\u001b[43m \u001b[49m\u001b[38;5;241;43m*\u001b[39;49m\u001b[38;5;241;43m*\u001b[39;49m\u001b[43mkwargs\u001b[49m\u001b[43m)\u001b[49m\n",
      "File \u001b[0;32m~/neural_net_toys/venv/lib/python3.8/site-packages/torch/nn/modules/module.py:1562\u001b[0m, in \u001b[0;36mModule._call_impl\u001b[0;34m(self, *args, **kwargs)\u001b[0m\n\u001b[1;32m   1557\u001b[0m \u001b[38;5;66;03m# If we don't have any hooks, we want to skip the rest of the logic in\u001b[39;00m\n\u001b[1;32m   1558\u001b[0m \u001b[38;5;66;03m# this function, and just call forward.\u001b[39;00m\n\u001b[1;32m   1559\u001b[0m \u001b[38;5;28;01mif\u001b[39;00m \u001b[38;5;129;01mnot\u001b[39;00m (\u001b[38;5;28mself\u001b[39m\u001b[38;5;241m.\u001b[39m_backward_hooks \u001b[38;5;129;01mor\u001b[39;00m \u001b[38;5;28mself\u001b[39m\u001b[38;5;241m.\u001b[39m_backward_pre_hooks \u001b[38;5;129;01mor\u001b[39;00m \u001b[38;5;28mself\u001b[39m\u001b[38;5;241m.\u001b[39m_forward_hooks \u001b[38;5;129;01mor\u001b[39;00m \u001b[38;5;28mself\u001b[39m\u001b[38;5;241m.\u001b[39m_forward_pre_hooks\n\u001b[1;32m   1560\u001b[0m         \u001b[38;5;129;01mor\u001b[39;00m _global_backward_pre_hooks \u001b[38;5;129;01mor\u001b[39;00m _global_backward_hooks\n\u001b[1;32m   1561\u001b[0m         \u001b[38;5;129;01mor\u001b[39;00m _global_forward_hooks \u001b[38;5;129;01mor\u001b[39;00m _global_forward_pre_hooks):\n\u001b[0;32m-> 1562\u001b[0m     \u001b[38;5;28;01mreturn\u001b[39;00m \u001b[43mforward_call\u001b[49m\u001b[43m(\u001b[49m\u001b[38;5;241;43m*\u001b[39;49m\u001b[43margs\u001b[49m\u001b[43m,\u001b[49m\u001b[43m \u001b[49m\u001b[38;5;241;43m*\u001b[39;49m\u001b[38;5;241;43m*\u001b[39;49m\u001b[43mkwargs\u001b[49m\u001b[43m)\u001b[49m\n\u001b[1;32m   1564\u001b[0m \u001b[38;5;28;01mtry\u001b[39;00m:\n\u001b[1;32m   1565\u001b[0m     result \u001b[38;5;241m=\u001b[39m \u001b[38;5;28;01mNone\u001b[39;00m\n",
      "File \u001b[0;32m~/neural_net_toys/venv/lib/python3.8/site-packages/torch/nn/modules/loss.py:1188\u001b[0m, in \u001b[0;36mCrossEntropyLoss.forward\u001b[0;34m(self, input, target)\u001b[0m\n\u001b[1;32m   1187\u001b[0m \u001b[38;5;28;01mdef\u001b[39;00m\u001b[38;5;250m \u001b[39m\u001b[38;5;21mforward\u001b[39m(\u001b[38;5;28mself\u001b[39m, \u001b[38;5;28minput\u001b[39m: Tensor, target: Tensor) \u001b[38;5;241m-\u001b[39m\u001b[38;5;241m>\u001b[39m Tensor:\n\u001b[0;32m-> 1188\u001b[0m     \u001b[38;5;28;01mreturn\u001b[39;00m \u001b[43mF\u001b[49m\u001b[38;5;241;43m.\u001b[39;49m\u001b[43mcross_entropy\u001b[49m\u001b[43m(\u001b[49m\u001b[38;5;28;43minput\u001b[39;49m\u001b[43m,\u001b[49m\u001b[43m \u001b[49m\u001b[43mtarget\u001b[49m\u001b[43m,\u001b[49m\u001b[43m \u001b[49m\u001b[43mweight\u001b[49m\u001b[38;5;241;43m=\u001b[39;49m\u001b[38;5;28;43mself\u001b[39;49m\u001b[38;5;241;43m.\u001b[39;49m\u001b[43mweight\u001b[49m\u001b[43m,\u001b[49m\n\u001b[1;32m   1189\u001b[0m \u001b[43m                           \u001b[49m\u001b[43mignore_index\u001b[49m\u001b[38;5;241;43m=\u001b[39;49m\u001b[38;5;28;43mself\u001b[39;49m\u001b[38;5;241;43m.\u001b[39;49m\u001b[43mignore_index\u001b[49m\u001b[43m,\u001b[49m\u001b[43m \u001b[49m\u001b[43mreduction\u001b[49m\u001b[38;5;241;43m=\u001b[39;49m\u001b[38;5;28;43mself\u001b[39;49m\u001b[38;5;241;43m.\u001b[39;49m\u001b[43mreduction\u001b[49m\u001b[43m,\u001b[49m\n\u001b[1;32m   1190\u001b[0m \u001b[43m                           \u001b[49m\u001b[43mlabel_smoothing\u001b[49m\u001b[38;5;241;43m=\u001b[39;49m\u001b[38;5;28;43mself\u001b[39;49m\u001b[38;5;241;43m.\u001b[39;49m\u001b[43mlabel_smoothing\u001b[49m\u001b[43m)\u001b[49m\n",
      "File \u001b[0;32m~/neural_net_toys/venv/lib/python3.8/site-packages/torch/nn/functional.py:3104\u001b[0m, in \u001b[0;36mcross_entropy\u001b[0;34m(input, target, weight, size_average, ignore_index, reduce, reduction, label_smoothing)\u001b[0m\n\u001b[1;32m   3102\u001b[0m \u001b[38;5;28;01mif\u001b[39;00m size_average \u001b[38;5;129;01mis\u001b[39;00m \u001b[38;5;129;01mnot\u001b[39;00m \u001b[38;5;28;01mNone\u001b[39;00m \u001b[38;5;129;01mor\u001b[39;00m reduce \u001b[38;5;129;01mis\u001b[39;00m \u001b[38;5;129;01mnot\u001b[39;00m \u001b[38;5;28;01mNone\u001b[39;00m:\n\u001b[1;32m   3103\u001b[0m     reduction \u001b[38;5;241m=\u001b[39m _Reduction\u001b[38;5;241m.\u001b[39mlegacy_get_string(size_average, reduce)\n\u001b[0;32m-> 3104\u001b[0m \u001b[38;5;28;01mreturn\u001b[39;00m \u001b[43mtorch\u001b[49m\u001b[38;5;241;43m.\u001b[39;49m\u001b[43m_C\u001b[49m\u001b[38;5;241;43m.\u001b[39;49m\u001b[43m_nn\u001b[49m\u001b[38;5;241;43m.\u001b[39;49m\u001b[43mcross_entropy_loss\u001b[49m\u001b[43m(\u001b[49m\u001b[38;5;28;43minput\u001b[39;49m\u001b[43m,\u001b[49m\u001b[43m \u001b[49m\u001b[43mtarget\u001b[49m\u001b[43m,\u001b[49m\u001b[43m \u001b[49m\u001b[43mweight\u001b[49m\u001b[43m,\u001b[49m\u001b[43m \u001b[49m\u001b[43m_Reduction\u001b[49m\u001b[38;5;241;43m.\u001b[39;49m\u001b[43mget_enum\u001b[49m\u001b[43m(\u001b[49m\u001b[43mreduction\u001b[49m\u001b[43m)\u001b[49m\u001b[43m,\u001b[49m\u001b[43m \u001b[49m\u001b[43mignore_index\u001b[49m\u001b[43m,\u001b[49m\u001b[43m \u001b[49m\u001b[43mlabel_smoothing\u001b[49m\u001b[43m)\u001b[49m\n",
      "\u001b[0;31mTypeError\u001b[0m: cross_entropy_loss(): argument 'input' (position 1) must be Tensor, not tuple"
     ]
    }
   ],
   "source": [
    "class simple_autoencoder(torch.nn.Module):\n",
    "    def __init__(self):\n",
    "        super(simple_autoencoder, self).__init__()\n",
    "\n",
    "        self.enc_conv1 = nn.Conv2d(1, 32, 3, 1)\n",
    "        self.enc_conv2 = nn.Conv2d(32, 64, 3, 1)\n",
    "        self.enc_dropout1 = nn.Dropout(0.25)\n",
    "        self.enc_dropout2 = nn.Dropout(0.5)\n",
    "        self.enc_fc1 = nn.Linear(9216, 128)\n",
    "        self.enc_fc2 = nn.Linear(128, 10)\n",
    "\n",
    "        self.dec_fc1 = nn.Linear(10,128)\n",
    "        self.dec_fc2 = nn.Linear(128,9216)\n",
    "        self.dec_dropout1 = nn.Dropout(0.5)\n",
    "        self.dec_dropout2 = nn.Dropout(0.25)\n",
    "        self.dec_deconv1 = nn.ConvTranspose2d(64, 32, kernel_size=3, stride=1)\n",
    "        self.dec_deconv2 = nn.ConvTranspose2d(32, 1, kernel_size=3, stride=1)\n",
    "\n",
    "\n",
    "        self.upsample = nn.Upsample(scale_factor=2, mode='nearest')\n",
    "\n",
    "\n",
    "    def encoder(self,input):\n",
    "        x = input.view(-1,1,28,28)\n",
    "        print(x.shape)\n",
    "        x = self.enc_conv1(x) # now a (batch_size, 32, 26, 26) sized tensor\n",
    "        print(x.shape)\n",
    "        x = F.relu(x)\n",
    "        x = self.enc_conv2(x) # now a (batch_size, 64,24,24) sized tensor\n",
    "        print(x.shape)\n",
    "        x = F.relu(x)\n",
    "        x = F.max_pool2d(x, 2)# now a (batch_size, 64,12,12) sized tensor\n",
    "        print(x.shape)\n",
    "        x = self.enc_dropout1(x)\n",
    "        x = torch.flatten(x, 1)# now a 9216\n",
    "        print(x.shape)\n",
    "        x = self.enc_fc1(x)\n",
    "        x = F.relu(x)\n",
    "        x = self.enc_dropout2(x)\n",
    "        x = self.enc_fc2(x)\n",
    "        print(x.shape)\n",
    "        latent = F.relu(x)\n",
    "        return latent\n",
    "\n",
    "    def decoder(self, latent):\n",
    "        print(\"decoder\")\n",
    "        x = self.dec_fc1(latent)\n",
    "        print(x.shape)\n",
    "        x = F.relu(x)\n",
    "        x = self.dec_dropout1(x)\n",
    "        x = self.dec_fc2(x)\n",
    "        print(x.shape)\n",
    "        x = F.relu(x)\n",
    "        x = self.dec_dropout2(x)\n",
    "        x = x.view(-1,64,12,12)\n",
    "        print(x.shape)\n",
    "        x = self.upsample(x)\n",
    "        x = self.dec_deconv1(x)\n",
    "        x = F.relu(x)\n",
    "        x = self.dec_deconv2(x)\n",
    "        x = F.relu(x)\n",
    "        x = torch.flatten(x,1)\n",
    "        return x\n",
    "        \n",
    "    def forward(self, input):\n",
    "        \n",
    "        latent = self.encoder(input)\n",
    "        x = self.decoder(latent)\n",
    "\n",
    "        return latent, x\n",
    "\n",
    "    def generate_image_from_one_hot(self,latent):\n",
    "        return self.decoder(latent)\n",
    "\n",
    "def visualise_prediction(model, batch,index = 0):\n",
    "    data,label = batch\n",
    "    model.eval()  # Set model to evaluation mode\n",
    "    with torch.no_grad():  # Disable gradient tracking for efficiency\n",
    "        input_cpu = torch.tensor(np.expand_dims(data, axis=0), dtype=torch.float32)\n",
    "        input = input_cpu.to(device)\n",
    "        # input = data\n",
    "        # print(\"input\",input.shape,input)\n",
    "        # predicted_output,pred_label = model(input)\n",
    "        pred_label, predicted_image = model(input)\n",
    "        pred_label = pred_label.cpu().argmax(dim=1)\n",
    "        predicted_image = predicted_image.cpu()\n",
    "        # predicted_output = predicted_output.numpy()[0]\n",
    "        print(\"pred\",pred_label.shape,pred_label)\n",
    "        print(\"input_image\", label)\n",
    "        show_bw_image(input_cpu)\n",
    "\n",
    "        print(\"predicted_image\", pred_label)\n",
    "        show_bw_image(predicted_image)\n",
    "\n",
    "def generate_image_from_one_hot(model, number = None,one_hot = None):\n",
    "    if number or number == 0:\n",
    "            print(f\"generating image for number {number}\")\n",
    "            one_hot = [0] * 10\n",
    "            one_hot[number] = 1\n",
    "    one_hot = torch.tensor(one_hot, dtype=torch.float32)\n",
    "    # print(\"onehot\",type(one_hot),one_hot.shape)\n",
    "    model.eval()\n",
    "    with torch.no_grad():\n",
    "        predicted_output = model.generate_image_from_one_hot(one_hot)\n",
    "        predicted_output = predicted_output.numpy()\n",
    "        print(predicted_output.shape)\n",
    "        show_bw_image(predicted_output)\n",
    "        \n",
    "def plot_losses(val_losses,train_losses):\n",
    "    epochs = range(1, len(train_losses) + 1)\n",
    "    plt.figure(figsize=(8, 5))\n",
    "    plt.plot(epochs, train_losses, label='Training Loss')\n",
    "    plt.plot(epochs, val_losses, label='Validation Loss')\n",
    "    plt.xlabel('Epoch')\n",
    "    plt.ylabel('Loss')\n",
    "    plt.title('Training vs Validation Loss')\n",
    "    plt.legend()\n",
    "    plt.grid(True)\n",
    "    plt.tight_layout()\n",
    "    plt.show()\n",
    "    \n",
    "def Validate(model, val_loader):\n",
    "    MSE_loss = nn.MSELoss()\n",
    "    CE_loss = nn.CrossEntropyLoss()\n",
    "    model.eval()\n",
    "    losses = []\n",
    "    correct_guesses = 0\n",
    "    total_guesses = 0\n",
    "    with torch.no_grad():\n",
    "        for batch in val_loader:\n",
    "            input,target = batch\n",
    "            one_hot_target = F.one_hot(target, num_classes=10).float()\n",
    "            output, latent = model(input)\n",
    "            # print(\"latent shape\",latent.shape)\n",
    "            # print(\"latent argax\", latent.argmax(axis = 1))\n",
    "            \n",
    "            for i, pred in enumerate(latent.argmax(axis = 1)):\n",
    "                if pred == target[i]:\n",
    "                    correct_guesses += 1\n",
    "                total_guesses += 1\n",
    "            # mse_loss = MSE_loss(output, input)\n",
    "            ce_loss = CE_loss(latent, one_hot_target)\n",
    "            loss = ce_loss\n",
    "            losses.append(loss.item())\n",
    "    # print(\"total\",total_guesses, \"correct\", correct_guesses)\n",
    "    return np.mean(losses), (correct_guesses/total_guesses)\n",
    "    \n",
    "def Train(model,train_loader, val_loader, epochs,lr):\n",
    "    MSE_loss = nn.MSELoss()\n",
    "    CE_loss = nn.CrossEntropyLoss()\n",
    "    optimizer = optim.Adam(model.parameters(), lr=lr)\n",
    "    gradients = []\n",
    "    epoch_val_losses = []\n",
    "    epoch_train_losses = []\n",
    "    epoch_val_accuracies = []\n",
    "    for epoch in range(epochs):\n",
    "        model.train()\n",
    "        losses = []\n",
    "        for i,batch in enumerate(train_loader):\n",
    "            print(\"batch\",i)\n",
    "            input,target = batch\n",
    "            input = input.to(device)\n",
    "            targets = target.to(device)\n",
    "            # print(\"input\",input.shape)\n",
    "            # print(\"target\", type(target))\n",
    "            target = F.one_hot(target, num_classes=10).float()\n",
    "\n",
    "            optimizer.zero_grad() #sets initial gradients to 0 for security purposes\n",
    "        \n",
    "            # output, latent = model(input)\n",
    "            latent = model(input)\n",
    "            # print(\"latent\",latent.shape,\"target\",target.shape)\n",
    "            # mse_loss = MSE_loss(output, input)\n",
    "            ce_loss = CE_loss(latent, target)\n",
    "            loss = ce_loss\n",
    "            losses.append(loss.item())\n",
    "            loss.backward()\n",
    "            optimizer.step()\n",
    "        val_loss,val_accuracy = Validate(model, val_loader)\n",
    "        epoch_val_accuracies.append(val_accuracy)\n",
    "        epoch_val_losses.append(val_loss)\n",
    "        epoch_train_losses.append(np.mean(losses))\n",
    "        # print('epoch {}, loss {}'.format(epoch, loss.item()))\n",
    "        print(f'epoch {epoch},accuracy {val_accuracy}, validation loss {epoch_val_losses[-1]}, train loss {epoch_train_losses[-1]}')\n",
    "\n",
    "    plot_losses(epoch_val_losses,epoch_train_losses)  \n",
    "\n",
    "\n",
    "    \n",
    "learning_rate = 0.0001\n",
    "num_epochs = 30\n",
    "\n",
    "model = simple_autoencoder().to(device)\n",
    "visualise_prediction(model,val_dataset[random.randrange(10)])\n",
    "# generate_image_from_one_hot(model,number = 0)\n",
    "Train(model,train_loader, val_loader, num_epochs,learning_rate)\n",
    "visualise_prediction(model,val_dataset[random.randrange(10)])\n",
    "# generate_image_from_one_hot(model,number = 0)\n"
   ]
  },
  {
   "cell_type": "code",
   "execution_count": 50,
   "id": "97ca4f0d-514d-4e18-85f3-2e5646f72e9a",
   "metadata": {},
   "outputs": [
    {
     "data": {
      "image/png": "[encoded data removed]",
      "text/plain": [
       "<Figure size 2000x200 with 20 Axes>"
      ]
     },
     "metadata": {},
     "output_type": "display_data"
    }
   ],
   "source": [
    "import matplotlib.pyplot as plt\n",
    "import torch\n",
    "import numpy as np\n",
    "\n",
    "def morph_in_grid(model, class_from, class_to, steps=20):\n",
    "    # One-hot vectors\n",
    "    vec_from = torch.zeros(10)\n",
    "    vec_from[class_from] = 1.0\n",
    "\n",
    "    vec_to = torch.zeros(10)\n",
    "    vec_to[class_to] = 1.0\n",
    "\n",
    "    fig, axes = plt.subplots(1, steps, figsize=(steps, 2))\n",
    "\n",
    "    for i in range(steps):\n",
    "        alpha = i / (steps - 1)\n",
    "        interp = (1 - alpha) * vec_from + alpha * vec_to\n",
    "        with torch.no_grad():\n",
    "            output = model.decoder(interp.unsqueeze(0)).numpy().reshape(8, 8)\n",
    "        axes[i].imshow(output, cmap='gray', vmin=0, vmax=1)\n",
    "        axes[i].axis('off')\n",
    "        axes[i].set_title(f\"{alpha:.2f}\", fontsize=6)\n",
    "\n",
    "    fig.suptitle(f\"Morphing {class_from} → {class_to}\")\n",
    "    plt.tight_layout()\n",
    "    plt.show()\n",
    "\n",
    "morph_in_grid(model, class_from=2, class_to=3)\n"
   ]
  },
  {
   "cell_type": "code",
   "execution_count": 51,
   "id": "a2169a2f-7f5a-436b-9b14-34959fd6fb0d",
   "metadata": {},
   "outputs": [
    {
     "name": "stdout",
     "output_type": "stream",
     "text": [
      "tensor([ 0.,  4., 16., 15.,  2.,  0.,  0.,  0.,  0., 11., 15., 15.,  7.,  0.,\n",
      "         0.,  0.,  0.,  9., 10.,  6., 14.,  0.,  0.,  0.,  0.,  0.,  0.,  7.,\n",
      "        15.,  0.,  0.,  0.,  0.,  0.,  0., 13., 10.,  0.,  0.,  0.,  0.,  0.,\n",
      "         1., 16.,  7.,  2.,  2.,  0.,  0.,  1., 12., 16., 15., 16., 15.,  0.,\n",
      "         0.,  4., 16., 16., 16., 12., 11.,  0.])\n",
      "input_image 2\n"
     ]
    },
    {
     "data": {
      "image/png": "[encoded data removed]",
      "text/plain": [
       "<Figure size 640x480 with 1 Axes>"
      ]
     },
     "metadata": {},
     "output_type": "display_data"
    },
    {
     "name": "stdout",
     "output_type": "stream",
     "text": [
      "predicted_image tensor([2])\n"
     ]
    },
    {
     "data": {
      "image/png": "[encoded data removed]",
      "text/plain": [
       "<Figure size 640x480 with 1 Axes>"
      ]
     },
     "metadata": {},
     "output_type": "display_data"
    },
    {
     "name": "stdout",
     "output_type": "stream",
     "text": [
      "tensor([ 0.,  0.,  2., 13., 16., 16.,  7.,  0.,  0.,  0., 12., 15., 12., 16.,\n",
      "        10.,  0.,  0.,  0., 16.,  9.,  0., 14.,  6.,  0.,  0.,  0.,  3.,  0.,\n",
      "         4., 16.,  1.,  0.,  0.,  0.,  0., 10., 14., 16.,  6.,  0.,  0.,  0.,\n",
      "         3., 16., 16., 11.,  2.,  0.,  0.,  0.,  0.,  9., 14.,  0.,  0.,  0.,\n",
      "         0.,  0.,  2., 15.,  6.,  0.,  0.,  0.])\n",
      "input_image 7\n"
     ]
    },
    {
     "data": {
      "image/png": "[encoded data removed]",
      "text/plain": [
       "<Figure size 640x480 with 1 Axes>"
      ]
     },
     "metadata": {},
     "output_type": "display_data"
    },
    {
     "name": "stdout",
     "output_type": "stream",
     "text": [
      "predicted_image tensor([7])\n"
     ]
    },
    {
     "data": {
      "image/png": "[encoded data removed]",
      "text/plain": [
       "<Figure size 640x480 with 1 Axes>"
      ]
     },
     "metadata": {},
     "output_type": "display_data"
    },
    {
     "name": "stdout",
     "output_type": "stream",
     "text": [
      "tensor([ 0.,  0.,  0.,  7., 16., 16., 11.,  0.,  0.,  0.,  6., 16., 16., 16.,\n",
      "        16.,  0.,  0.,  0., 11., 16., 16., 16.,  9.,  0.,  0.,  0.,  2.,  9.,\n",
      "        11., 14., 10.,  0.,  0.,  0.,  0.,  0.,  0., 10.,  6.,  0.,  0.,  0.,\n",
      "         0.,  0.,  4., 11.,  1.,  0.,  0.,  0.,  0.,  2., 14.,  2.,  0.,  0.,\n",
      "         0.,  0.,  0., 11.,  3.,  0.,  0.,  0.])\n",
      "input_image 9\n"
     ]
    },
    {
     "data": {
      "image/png": "[encoded data removed]",
      "text/plain": [
       "<Figure size 640x480 with 1 Axes>"
      ]
     },
     "metadata": {},
     "output_type": "display_data"
    },
    {
     "name": "stdout",
     "output_type": "stream",
     "text": [
      "predicted_image tensor([1])\n"
     ]
    },
    {
     "data": {
      "image/png": "[encoded data removed]",
      "text/plain": [
       "<Figure size 640x480 with 1 Axes>"
      ]
     },
     "metadata": {},
     "output_type": "display_data"
    },
    {
     "name": "stdout",
     "output_type": "stream",
     "text": [
      "tensor([ 0.,  0.,  0., 11.,  9.,  0.,  0.,  0.,  0.,  0.,  0., 11., 14.,  0.,\n",
      "         0.,  0.,  0.,  0.,  0., 11., 13.,  0.,  0.,  0.,  0.,  0.,  0., 15.,\n",
      "        13.,  0.,  0.,  0.,  0.,  0.,  0., 13., 13.,  0.,  0.,  0.,  0.,  0.,\n",
      "         0., 13.,  9.,  0.,  0.,  0.,  0.,  0.,  0., 10., 10.,  0.,  0.,  0.,\n",
      "         0.,  0.,  0.,  9., 11.,  0.,  0.,  0.])\n",
      "input_image 1\n"
     ]
    },
    {
     "data": {
      "image/png": "[encoded data removed]",
      "text/plain": [
       "<Figure size 640x480 with 1 Axes>"
      ]
     },
     "metadata": {},
     "output_type": "display_data"
    },
    {
     "name": "stdout",
     "output_type": "stream",
     "text": [
      "predicted_image tensor([1])\n"
     ]
    },
    {
     "data": {
      "image/png": "[encoded data removed]",
      "text/plain": [
       "<Figure size 640x480 with 1 Axes>"
      ]
     },
     "metadata": {},
     "output_type": "display_data"
    },
    {
     "name": "stdout",
     "output_type": "stream",
     "text": [
      "tensor([ 0.,  2., 13., 16., 12.,  0.,  0.,  0.,  0.,  9., 15., 10., 16.,  3.,\n",
      "         0.,  0.,  0.,  5.,  7.,  5., 16.,  3.,  0.,  0.,  0.,  0.,  0., 10.,\n",
      "        14.,  0.,  0.,  0.,  0.,  0.,  5., 16.,  7.,  0.,  0.,  0.,  0.,  0.,\n",
      "        14., 16.,  1.,  3.,  7.,  1.,  0.,  3., 16., 12., 10., 16., 11.,  1.,\n",
      "         0.,  0., 13., 16., 13.,  7.,  1.,  0.])\n",
      "input_image 2\n"
     ]
    },
    {
     "data": {
      "image/png": "[encoded data removed]",
      "text/plain": [
       "<Figure size 640x480 with 1 Axes>"
      ]
     },
     "metadata": {},
     "output_type": "display_data"
    },
    {
     "name": "stdout",
     "output_type": "stream",
     "text": [
      "predicted_image tensor([2])\n"
     ]
    },
    {
     "data": {
      "image/png": "[encoded data removed]",
      "text/plain": [
       "<Figure size 640x480 with 1 Axes>"
      ]
     },
     "metadata": {},
     "output_type": "display_data"
    },
    {
     "name": "stdout",
     "output_type": "stream",
     "text": [
      "tensor([ 0.,  0.,  4., 14., 11.,  3.,  0.,  0.,  0.,  0., 10., 16., 12., 14.,\n",
      "         1.,  0.,  0.,  1., 14., 12.,  0., 13.,  3.,  0.,  0.,  5., 16.,  6.,\n",
      "         0.,  8.,  6.,  0.,  0.,  8., 16.,  0.,  0.,  9.,  8.,  0.,  0.,  7.,\n",
      "        16.,  3.,  7., 16.,  5.,  0.,  0.,  3., 15., 13., 16., 15.,  2.,  0.,\n",
      "         0.,  0.,  4., 15., 12.,  2.,  0.,  0.])\n",
      "input_image 0\n"
     ]
    },
    {
     "data": {
      "image/png": "[encoded data removed]",
      "text/plain": [
       "<Figure size 640x480 with 1 Axes>"
      ]
     },
     "metadata": {},
     "output_type": "display_data"
    },
    {
     "name": "stdout",
     "output_type": "stream",
     "text": [
      "predicted_image tensor([0])\n"
     ]
    },
    {
     "data": {
      "image/png": "[encoded data removed]",
      "text/plain": [
       "<Figure size 640x480 with 1 Axes>"
      ]
     },
     "metadata": {},
     "output_type": "display_data"
    },
    {
     "name": "stdout",
     "output_type": "stream",
     "text": [
      "tensor([ 0.,  0.,  8., 12., 11.,  6.,  0.,  0.,  0.,  0.,  8., 16., 16., 13.,\n",
      "         2.,  0.,  0.,  2., 14., 16., 16., 14.,  2.,  0.,  0.,  2., 13., 16.,\n",
      "        16.,  8.,  0.,  0.,  0.,  4., 16., 16., 16.,  8.,  0.,  0.,  0.,  4.,\n",
      "        16., 16., 16., 10.,  0.,  0.,  0.,  1., 11., 16., 16.,  8.,  0.,  0.,\n",
      "         0.,  0.,  4., 11., 12.,  7.,  0.,  0.])\n",
      "input_image 1\n"
     ]
    },
    {
     "data": {
      "image/png": "[encoded data removed]",
      "text/plain": [
       "<Figure size 640x480 with 1 Axes>"
      ]
     },
     "metadata": {},
     "output_type": "display_data"
    },
    {
     "name": "stdout",
     "output_type": "stream",
     "text": [
      "predicted_image tensor([8])\n"
     ]
    },
    {
     "data": {
      "image/png": "[encoded data removed]",
      "text/plain": [
       "<Figure size 640x480 with 1 Axes>"
      ]
     },
     "metadata": {},
     "output_type": "display_data"
    },
    {
     "name": "stdout",
     "output_type": "stream",
     "text": [
      "tensor([ 0.,  0.,  5., 14., 14.,  2.,  0.,  0.,  0.,  2., 16., 16., 16.,  7.,\n",
      "         0.,  0.,  0.,  0.,  7.,  4., 16., 12.,  0.,  0.,  0.,  0.,  1.,  9.,\n",
      "        16., 16.,  8.,  0.,  0.,  3., 15., 16., 16., 10.,  2.,  0.,  0.,  4.,\n",
      "        16., 16., 11.,  0.,  0.,  0.,  0.,  0.,  9., 16.,  5.,  0.,  0.,  0.,\n",
      "         0.,  0.,  9., 13.,  0.,  0.,  0.,  0.])\n",
      "input_image 7\n"
     ]
    },
    {
     "data": {
      "image/png": "[encoded data removed]",
      "text/plain": [
       "<Figure size 640x480 with 1 Axes>"
      ]
     },
     "metadata": {},
     "output_type": "display_data"
    },
    {
     "name": "stdout",
     "output_type": "stream",
     "text": [
      "predicted_image tensor([7])\n"
     ]
    },
    {
     "data": {
      "image/png": "[encoded data removed]",
      "text/plain": [
       "<Figure size 640x480 with 1 Axes>"
      ]
     },
     "metadata": {},
     "output_type": "display_data"
    },
    {
     "name": "stdout",
     "output_type": "stream",
     "text": [
      "tensor([ 0.,  0.,  8., 16., 11.,  0.,  0.,  0.,  0.,  2., 15.,  8., 16.,  7.,\n",
      "         0.,  0.,  0.,  3., 13.,  1., 14., 13.,  0.,  0.,  0.,  0., 10., 16.,\n",
      "        16., 16.,  3.,  0.,  0.,  0.,  0.,  2.,  5., 15.,  4.,  0.,  0.,  0.,\n",
      "         0.,  0.,  0., 12.,  6.,  0.,  0.,  0.,  5.,  6.,  5., 15.,  4.,  0.,\n",
      "         0.,  0.,  6., 15., 16., 12.,  1.,  0.])\n",
      "input_image 9\n"
     ]
    },
    {
     "data": {
      "image/png": "[encoded data removed]",
      "text/plain": [
       "<Figure size 640x480 with 1 Axes>"
      ]
     },
     "metadata": {},
     "output_type": "display_data"
    },
    {
     "name": "stdout",
     "output_type": "stream",
     "text": [
      "predicted_image tensor([9])\n"
     ]
    },
    {
     "data": {
      "image/png": "[encoded data removed]",
      "text/plain": [
       "<Figure size 640x480 with 1 Axes>"
      ]
     },
     "metadata": {},
     "output_type": "display_data"
    },
    {
     "name": "stdout",
     "output_type": "stream",
     "text": [
      "tensor([ 0.,  0., 10., 14.,  8.,  1.,  0.,  0.,  0.,  2., 16., 14.,  6.,  1.,\n",
      "         0.,  0.,  0.,  0., 15., 15.,  8., 15.,  0.,  0.,  0.,  0.,  5., 16.,\n",
      "        16., 10.,  0.,  0.,  0.,  0., 12., 15., 15., 12.,  0.,  0.,  0.,  4.,\n",
      "        16.,  6.,  4., 16.,  6.,  0.,  0.,  8., 16., 10.,  8., 16.,  8.,  0.,\n",
      "         0.,  1.,  8., 12., 14., 12.,  1.,  0.])\n",
      "input_image 8\n"
     ]
    },
    {
     "data": {
      "image/png": "[encoded data removed]",
      "text/plain": [
       "<Figure size 640x480 with 1 Axes>"
      ]
     },
     "metadata": {},
     "output_type": "display_data"
    },
    {
     "name": "stdout",
     "output_type": "stream",
     "text": [
      "predicted_image tensor([8])\n"
     ]
    },
    {
     "data": {
      "image/png": "[encoded data removed]",
      "text/plain": [
       "<Figure size 640x480 with 1 Axes>"
      ]
     },
     "metadata": {},
     "output_type": "display_data"
    }
   ],
   "source": [
    "import random\n",
    "\n",
    "indices = random.sample(range(len(val_dataset)), 10)\n",
    "for i in indices:\n",
    "    # print(i)\n",
    "    # print(val_dataset[i])\n",
    "    visualise_prediction(model, val_dataset[i])"
   ]
  },
  {
   "cell_type": "code",
   "execution_count": null,
   "id": "e03846d1-2830-49bc-b116-91fdabde77af",
   "metadata": {},
   "outputs": [],
   "source": []
  }
 ],
 "metadata": {
  "kernelspec": {
   "display_name": "Python 3 (ipykernel)",
   "language": "python",
   "name": "python3"
  },
  "language_info": {
   "codemirror_mode": {
    "name": "ipython",
    "version": 3
   },
   "file_extension": ".py",
   "mimetype": "text/x-python",
   "name": "python",
   "nbconvert_exporter": "python",
   "pygments_lexer": "ipython3",
   "version": "3.8.10"
  }
 },
 "nbformat": 4,
 "nbformat_minor": 5
}
